{
 "cells": [
  {
   "cell_type": "code",
   "execution_count": 1,
   "metadata": {},
   "outputs": [],
   "source": [
    "import pandas as pd"
   ]
  },
  {
   "cell_type": "code",
   "execution_count": 2,
   "metadata": {},
   "outputs": [],
   "source": [
    "data=pd.read_csv(\"D:\\python\\music.csv\")"
   ]
  },
  {
   "cell_type": "code",
   "execution_count": 3,
   "metadata": {},
   "outputs": [
    {
     "data": {
      "text/html": [
       "<div>\n",
       "<style scoped>\n",
       "    .dataframe tbody tr th:only-of-type {\n",
       "        vertical-align: middle;\n",
       "    }\n",
       "\n",
       "    .dataframe tbody tr th {\n",
       "        vertical-align: top;\n",
       "    }\n",
       "\n",
       "    .dataframe thead th {\n",
       "        text-align: right;\n",
       "    }\n",
       "</style>\n",
       "<table border=\"1\" class=\"dataframe\">\n",
       "  <thead>\n",
       "    <tr style=\"text-align: right;\">\n",
       "      <th></th>\n",
       "      <th>Class</th>\n",
       "      <th>_RMSenergy_Mean</th>\n",
       "      <th>_Lowenergy_Mean</th>\n",
       "      <th>_Fluctuation_Mean</th>\n",
       "      <th>_Tempo_Mean</th>\n",
       "      <th>_MFCC_Mean_1</th>\n",
       "      <th>_MFCC_Mean_2</th>\n",
       "      <th>_MFCC_Mean_3</th>\n",
       "      <th>_MFCC_Mean_4</th>\n",
       "      <th>_MFCC_Mean_5</th>\n",
       "      <th>_MFCC_Mean_6</th>\n",
       "      <th>_MFCC_Mean_7</th>\n",
       "      <th>_MFCC_Mean_8</th>\n",
       "      <th>_MFCC_Mean_9</th>\n",
       "      <th>_MFCC_Mean_10</th>\n",
       "      <th>_MFCC_Mean_11</th>\n",
       "      <th>_MFCC_Mean_12</th>\n",
       "      <th>_MFCC_Mean_13</th>\n",
       "      <th>_Roughness_Mean</th>\n",
       "      <th>_Roughness_Slope</th>\n",
       "    </tr>\n",
       "  </thead>\n",
       "  <tbody>\n",
       "    <tr>\n",
       "      <th>0</th>\n",
       "      <td>relax</td>\n",
       "      <td>0.052</td>\n",
       "      <td>0.591</td>\n",
       "      <td>9.136</td>\n",
       "      <td>130.043</td>\n",
       "      <td>3.997</td>\n",
       "      <td>0.363</td>\n",
       "      <td>0.887</td>\n",
       "      <td>0.078</td>\n",
       "      <td>0.221</td>\n",
       "      <td>0.118</td>\n",
       "      <td>-0.151</td>\n",
       "      <td>-0.131</td>\n",
       "      <td>0.129</td>\n",
       "      <td>0.154</td>\n",
       "      <td>0.274</td>\n",
       "      <td>0.232</td>\n",
       "      <td>0.246</td>\n",
       "      <td>51.542</td>\n",
       "      <td>0.325</td>\n",
       "    </tr>\n",
       "    <tr>\n",
       "      <th>1</th>\n",
       "      <td>relax</td>\n",
       "      <td>0.125</td>\n",
       "      <td>0.439</td>\n",
       "      <td>6.680</td>\n",
       "      <td>142.240</td>\n",
       "      <td>4.058</td>\n",
       "      <td>0.516</td>\n",
       "      <td>0.785</td>\n",
       "      <td>0.397</td>\n",
       "      <td>0.556</td>\n",
       "      <td>0.799</td>\n",
       "      <td>-0.403</td>\n",
       "      <td>-0.264</td>\n",
       "      <td>-0.057</td>\n",
       "      <td>0.288</td>\n",
       "      <td>0.309</td>\n",
       "      <td>0.049</td>\n",
       "      <td>0.027</td>\n",
       "      <td>336.839</td>\n",
       "      <td>0.366</td>\n",
       "    </tr>\n",
       "    <tr>\n",
       "      <th>2</th>\n",
       "      <td>relax</td>\n",
       "      <td>0.046</td>\n",
       "      <td>0.639</td>\n",
       "      <td>10.578</td>\n",
       "      <td>188.154</td>\n",
       "      <td>2.775</td>\n",
       "      <td>0.903</td>\n",
       "      <td>0.502</td>\n",
       "      <td>0.329</td>\n",
       "      <td>0.287</td>\n",
       "      <td>0.140</td>\n",
       "      <td>-0.246</td>\n",
       "      <td>0.025</td>\n",
       "      <td>-0.112</td>\n",
       "      <td>-0.422</td>\n",
       "      <td>0.018</td>\n",
       "      <td>0.179</td>\n",
       "      <td>0.138</td>\n",
       "      <td>39.864</td>\n",
       "      <td>0.224</td>\n",
       "    </tr>\n",
       "    <tr>\n",
       "      <th>3</th>\n",
       "      <td>relax</td>\n",
       "      <td>0.135</td>\n",
       "      <td>0.603</td>\n",
       "      <td>10.442</td>\n",
       "      <td>65.991</td>\n",
       "      <td>2.841</td>\n",
       "      <td>1.552</td>\n",
       "      <td>0.612</td>\n",
       "      <td>0.351</td>\n",
       "      <td>0.011</td>\n",
       "      <td>0.143</td>\n",
       "      <td>0.047</td>\n",
       "      <td>0.242</td>\n",
       "      <td>0.018</td>\n",
       "      <td>0.168</td>\n",
       "      <td>0.141</td>\n",
       "      <td>0.245</td>\n",
       "      <td>0.146</td>\n",
       "      <td>353.744</td>\n",
       "      <td>0.215</td>\n",
       "    </tr>\n",
       "    <tr>\n",
       "      <th>4</th>\n",
       "      <td>relax</td>\n",
       "      <td>0.066</td>\n",
       "      <td>0.591</td>\n",
       "      <td>9.769</td>\n",
       "      <td>88.890</td>\n",
       "      <td>3.217</td>\n",
       "      <td>0.228</td>\n",
       "      <td>0.814</td>\n",
       "      <td>0.096</td>\n",
       "      <td>0.434</td>\n",
       "      <td>0.285</td>\n",
       "      <td>0.104</td>\n",
       "      <td>0.013</td>\n",
       "      <td>-0.235</td>\n",
       "      <td>-0.207</td>\n",
       "      <td>-0.276</td>\n",
       "      <td>-0.294</td>\n",
       "      <td>-0.190</td>\n",
       "      <td>46.884</td>\n",
       "      <td>-0.118</td>\n",
       "    </tr>\n",
       "    <tr>\n",
       "      <th>...</th>\n",
       "      <td>...</td>\n",
       "      <td>...</td>\n",
       "      <td>...</td>\n",
       "      <td>...</td>\n",
       "      <td>...</td>\n",
       "      <td>...</td>\n",
       "      <td>...</td>\n",
       "      <td>...</td>\n",
       "      <td>...</td>\n",
       "      <td>...</td>\n",
       "      <td>...</td>\n",
       "      <td>...</td>\n",
       "      <td>...</td>\n",
       "      <td>...</td>\n",
       "      <td>...</td>\n",
       "      <td>...</td>\n",
       "      <td>...</td>\n",
       "      <td>...</td>\n",
       "      <td>...</td>\n",
       "      <td>...</td>\n",
       "    </tr>\n",
       "    <tr>\n",
       "      <th>395</th>\n",
       "      <td>angry</td>\n",
       "      <td>0.174</td>\n",
       "      <td>0.578</td>\n",
       "      <td>5.265</td>\n",
       "      <td>161.144</td>\n",
       "      <td>2.985</td>\n",
       "      <td>0.065</td>\n",
       "      <td>0.718</td>\n",
       "      <td>0.046</td>\n",
       "      <td>0.265</td>\n",
       "      <td>0.104</td>\n",
       "      <td>0.198</td>\n",
       "      <td>0.076</td>\n",
       "      <td>-0.129</td>\n",
       "      <td>-0.057</td>\n",
       "      <td>-0.173</td>\n",
       "      <td>-0.082</td>\n",
       "      <td>0.053</td>\n",
       "      <td>547.713</td>\n",
       "      <td>0.060</td>\n",
       "    </tr>\n",
       "    <tr>\n",
       "      <th>396</th>\n",
       "      <td>angry</td>\n",
       "      <td>0.176</td>\n",
       "      <td>0.498</td>\n",
       "      <td>5.042</td>\n",
       "      <td>179.787</td>\n",
       "      <td>2.790</td>\n",
       "      <td>-0.148</td>\n",
       "      <td>0.342</td>\n",
       "      <td>-0.011</td>\n",
       "      <td>0.029</td>\n",
       "      <td>0.039</td>\n",
       "      <td>0.065</td>\n",
       "      <td>-0.013</td>\n",
       "      <td>-0.129</td>\n",
       "      <td>0.029</td>\n",
       "      <td>-0.038</td>\n",
       "      <td>-0.035</td>\n",
       "      <td>0.038</td>\n",
       "      <td>1121.910</td>\n",
       "      <td>0.032</td>\n",
       "    </tr>\n",
       "    <tr>\n",
       "      <th>397</th>\n",
       "      <td>angry</td>\n",
       "      <td>0.187</td>\n",
       "      <td>0.557</td>\n",
       "      <td>4.724</td>\n",
       "      <td>134.032</td>\n",
       "      <td>1.672</td>\n",
       "      <td>0.566</td>\n",
       "      <td>0.880</td>\n",
       "      <td>-0.113</td>\n",
       "      <td>0.244</td>\n",
       "      <td>0.214</td>\n",
       "      <td>0.278</td>\n",
       "      <td>0.170</td>\n",
       "      <td>-0.049</td>\n",
       "      <td>-0.056</td>\n",
       "      <td>-0.111</td>\n",
       "      <td>-0.003</td>\n",
       "      <td>0.011</td>\n",
       "      <td>889.926</td>\n",
       "      <td>-0.010</td>\n",
       "    </tr>\n",
       "    <tr>\n",
       "      <th>398</th>\n",
       "      <td>angry</td>\n",
       "      <td>0.140</td>\n",
       "      <td>0.573</td>\n",
       "      <td>4.470</td>\n",
       "      <td>113.600</td>\n",
       "      <td>1.997</td>\n",
       "      <td>-0.210</td>\n",
       "      <td>0.694</td>\n",
       "      <td>0.089</td>\n",
       "      <td>0.206</td>\n",
       "      <td>0.062</td>\n",
       "      <td>0.173</td>\n",
       "      <td>0.243</td>\n",
       "      <td>-0.036</td>\n",
       "      <td>-0.149</td>\n",
       "      <td>-0.049</td>\n",
       "      <td>-0.078</td>\n",
       "      <td>0.035</td>\n",
       "      <td>408.726</td>\n",
       "      <td>0.174</td>\n",
       "    </tr>\n",
       "    <tr>\n",
       "      <th>399</th>\n",
       "      <td>angry</td>\n",
       "      <td>0.086</td>\n",
       "      <td>0.475</td>\n",
       "      <td>5.343</td>\n",
       "      <td>151.748</td>\n",
       "      <td>2.240</td>\n",
       "      <td>-0.014</td>\n",
       "      <td>0.834</td>\n",
       "      <td>-0.021</td>\n",
       "      <td>0.345</td>\n",
       "      <td>0.266</td>\n",
       "      <td>0.310</td>\n",
       "      <td>0.155</td>\n",
       "      <td>-0.003</td>\n",
       "      <td>0.016</td>\n",
       "      <td>-0.041</td>\n",
       "      <td>-0.055</td>\n",
       "      <td>0.075</td>\n",
       "      <td>258.400</td>\n",
       "      <td>0.000</td>\n",
       "    </tr>\n",
       "  </tbody>\n",
       "</table>\n",
       "<p>400 rows × 20 columns</p>\n",
       "</div>"
      ],
      "text/plain": [
       "     Class  _RMSenergy_Mean  _Lowenergy_Mean  _Fluctuation_Mean  _Tempo_Mean  \\\n",
       "0    relax            0.052            0.591              9.136      130.043   \n",
       "1    relax            0.125            0.439              6.680      142.240   \n",
       "2    relax            0.046            0.639             10.578      188.154   \n",
       "3    relax            0.135            0.603             10.442       65.991   \n",
       "4    relax            0.066            0.591              9.769       88.890   \n",
       "..     ...              ...              ...                ...          ...   \n",
       "395  angry            0.174            0.578              5.265      161.144   \n",
       "396  angry            0.176            0.498              5.042      179.787   \n",
       "397  angry            0.187            0.557              4.724      134.032   \n",
       "398  angry            0.140            0.573              4.470      113.600   \n",
       "399  angry            0.086            0.475              5.343      151.748   \n",
       "\n",
       "     _MFCC_Mean_1  _MFCC_Mean_2  _MFCC_Mean_3  _MFCC_Mean_4  _MFCC_Mean_5  \\\n",
       "0           3.997         0.363         0.887         0.078         0.221   \n",
       "1           4.058         0.516         0.785         0.397         0.556   \n",
       "2           2.775         0.903         0.502         0.329         0.287   \n",
       "3           2.841         1.552         0.612         0.351         0.011   \n",
       "4           3.217         0.228         0.814         0.096         0.434   \n",
       "..            ...           ...           ...           ...           ...   \n",
       "395         2.985         0.065         0.718         0.046         0.265   \n",
       "396         2.790        -0.148         0.342        -0.011         0.029   \n",
       "397         1.672         0.566         0.880        -0.113         0.244   \n",
       "398         1.997        -0.210         0.694         0.089         0.206   \n",
       "399         2.240        -0.014         0.834        -0.021         0.345   \n",
       "\n",
       "     _MFCC_Mean_6  _MFCC_Mean_7  _MFCC_Mean_8  _MFCC_Mean_9  _MFCC_Mean_10  \\\n",
       "0           0.118        -0.151        -0.131         0.129          0.154   \n",
       "1           0.799        -0.403        -0.264        -0.057          0.288   \n",
       "2           0.140        -0.246         0.025        -0.112         -0.422   \n",
       "3           0.143         0.047         0.242         0.018          0.168   \n",
       "4           0.285         0.104         0.013        -0.235         -0.207   \n",
       "..            ...           ...           ...           ...            ...   \n",
       "395         0.104         0.198         0.076        -0.129         -0.057   \n",
       "396         0.039         0.065        -0.013        -0.129          0.029   \n",
       "397         0.214         0.278         0.170        -0.049         -0.056   \n",
       "398         0.062         0.173         0.243        -0.036         -0.149   \n",
       "399         0.266         0.310         0.155        -0.003          0.016   \n",
       "\n",
       "     _MFCC_Mean_11  _MFCC_Mean_12  _MFCC_Mean_13  _Roughness_Mean  \\\n",
       "0            0.274          0.232          0.246           51.542   \n",
       "1            0.309          0.049          0.027          336.839   \n",
       "2            0.018          0.179          0.138           39.864   \n",
       "3            0.141          0.245          0.146          353.744   \n",
       "4           -0.276         -0.294         -0.190           46.884   \n",
       "..             ...            ...            ...              ...   \n",
       "395         -0.173         -0.082          0.053          547.713   \n",
       "396         -0.038         -0.035          0.038         1121.910   \n",
       "397         -0.111         -0.003          0.011          889.926   \n",
       "398         -0.049         -0.078          0.035          408.726   \n",
       "399         -0.041         -0.055          0.075          258.400   \n",
       "\n",
       "     _Roughness_Slope  \n",
       "0               0.325  \n",
       "1               0.366  \n",
       "2               0.224  \n",
       "3               0.215  \n",
       "4              -0.118  \n",
       "..                ...  \n",
       "395             0.060  \n",
       "396             0.032  \n",
       "397            -0.010  \n",
       "398             0.174  \n",
       "399             0.000  \n",
       "\n",
       "[400 rows x 20 columns]"
      ]
     },
     "execution_count": 3,
     "metadata": {},
     "output_type": "execute_result"
    }
   ],
   "source": [
    "data"
   ]
  },
  {
   "cell_type": "code",
   "execution_count": 4,
   "metadata": {},
   "outputs": [
    {
     "data": {
      "text/plain": [
       "[<matplotlib.lines.Line2D at 0x27a07780340>]"
      ]
     },
     "execution_count": 4,
     "metadata": {},
     "output_type": "execute_result"
    },
    {
     "data": {
      "image/png": "[encoded data removed]",
      "text/plain": [
       "<Figure size 432x288 with 1 Axes>"
      ]
     },
     "metadata": {
      "needs_background": "light"
     },
     "output_type": "display_data"
    }
   ],
   "source": [
    "import matplotlib.pyplot as pt\n",
    "x1=data['_RMSenergy_Mean']\n",
    "y=data['Class']\n",
    "pt.plot(x1,y)"
   ]
  },
  {
   "cell_type": "code",
   "execution_count": 5,
   "metadata": {},
   "outputs": [
    {
     "data": {
      "text/plain": [
       "[<matplotlib.lines.Line2D at 0x27a0784ef40>]"
      ]
     },
     "execution_count": 5,
     "metadata": {},
     "output_type": "execute_result"
    },
    {
     "data": {
      "image/png": "[encoded data removed]",
      "text/plain": [
       "<Figure size 432x288 with 1 Axes>"
      ]
     },
     "metadata": {
      "needs_background": "light"
     },
     "output_type": "display_data"
    }
   ],
   "source": [
    "x2=data['_Lowenergy_Mean']\n",
    "y=data['Class']\n",
    "pt.plot(x2,y)"
   ]
  },
  {
   "cell_type": "code",
   "execution_count": 6,
   "metadata": {},
   "outputs": [
    {
     "data": {
      "text/plain": [
       "[<matplotlib.lines.Line2D at 0x27a078bc2b0>]"
      ]
     },
     "execution_count": 6,
     "metadata": {},
     "output_type": "execute_result"
    },
    {
     "data": {
      "image/png": "[encoded data removed]",
      "text/plain": [
       "<Figure size 432x288 with 1 Axes>"
      ]
     },
     "metadata": {
      "needs_background": "light"
     },
     "output_type": "display_data"
    }
   ],
   "source": [
    "x3=data['_Fluctuation_Mean']\n",
    "y=data['Class']\n",
    "pt.plot(x3,y)"
   ]
  },
  {
   "cell_type": "code",
   "execution_count": 7,
   "metadata": {},
   "outputs": [
    {
     "data": {
      "text/plain": [
       "[<matplotlib.lines.Line2D at 0x27a07910700>]"
      ]
     },
     "execution_count": 7,
     "metadata": {},
     "output_type": "execute_result"
    },
    {
     "data": {
      "image/png": "[encoded data removed]",
      "text/plain": [
       "<Figure size 432x288 with 1 Axes>"
      ]
     },
     "metadata": {
      "needs_background": "light"
     },
     "output_type": "display_data"
    }
   ],
   "source": [
    "x4=data['_Tempo_Mean']\n",
    "y=data['Class']\n",
    "pt.plot(x4,y)"
   ]
  },
  {
   "cell_type": "code",
   "execution_count": 8,
   "metadata": {},
   "outputs": [
    {
     "data": {
      "text/plain": [
       "[<matplotlib.lines.Line2D at 0x27a07961a30>]"
      ]
     },
     "execution_count": 8,
     "metadata": {},
     "output_type": "execute_result"
    },
    {
     "data": {
      "image/png": "[encoded data removed]",
      "text/plain": [
       "<Figure size 432x288 with 1 Axes>"
      ]
     },
     "metadata": {
      "needs_background": "light"
     },
     "output_type": "display_data"
    }
   ],
   "source": [
    "x5=data['_MFCC_Mean_1']\n",
    "y=data['Class']\n",
    "pt.plot(x5,y)"
   ]
  },
  {
   "cell_type": "code",
   "execution_count": 9,
   "metadata": {},
   "outputs": [
    {
     "data": {
      "text/plain": [
       "[<matplotlib.lines.Line2D at 0x27a078657c0>]"
      ]
     },
     "execution_count": 9,
     "metadata": {},
     "output_type": "execute_result"
    },
    {
     "data": {
      "image/png": "[encoded data removed]",
      "text/plain": [
       "<Figure size 432x288 with 1 Axes>"
      ]
     },
     "metadata": {
      "needs_background": "light"
     },
     "output_type": "display_data"
    }
   ],
   "source": [
    "x6=data['_MFCC_Mean_2']\n",
    "y=data['Class']\n",
    "pt.plot(x6,y)"
   ]
  },
  {
   "cell_type": "code",
   "execution_count": 10,
   "metadata": {},
   "outputs": [
    {
     "data": {
      "text/plain": [
       "[<matplotlib.lines.Line2D at 0x27a079fb310>]"
      ]
     },
     "execution_count": 10,
     "metadata": {},
     "output_type": "execute_result"
    },
    {
     "data": {
      "image/png": "[encoded data removed]",
      "text/plain": [
       "<Figure size 432x288 with 1 Axes>"
      ]
     },
     "metadata": {
      "needs_background": "light"
     },
     "output_type": "display_data"
    }
   ],
   "source": [
    "x7=data['_MFCC_Mean_3']\n",
    "y=data['Class']\n",
    "pt.plot(x7,y)"
   ]
  },
  {
   "cell_type": "code",
   "execution_count": 11,
   "metadata": {},
   "outputs": [
    {
     "data": {
      "text/plain": [
       "[<matplotlib.lines.Line2D at 0x27a07a464f0>]"
      ]
     },
     "execution_count": 11,
     "metadata": {},
     "output_type": "execute_result"
    },
    {
     "data": {
      "image/png": "[encoded data removed]",
      "text/plain": [
       "<Figure size 432x288 with 1 Axes>"
      ]
     },
     "metadata": {
      "needs_background": "light"
     },
     "output_type": "display_data"
    }
   ],
   "source": [
    "x8=data['_MFCC_Mean_4']\n",
    "y=data['Class']\n",
    "pt.plot(x8,y)"
   ]
  },
  {
   "cell_type": "code",
   "execution_count": 12,
   "metadata": {},
   "outputs": [
    {
     "data": {
      "text/plain": [
       "[<matplotlib.lines.Line2D at 0x27a08a5ce20>]"
      ]
     },
     "execution_count": 12,
     "metadata": {},
     "output_type": "execute_result"
    },
    {
     "data": {
      "image/png": "[encoded data removed]",
      "text/plain": [
       "<Figure size 432x288 with 1 Axes>"
      ]
     },
     "metadata": {
      "needs_background": "light"
     },
     "output_type": "display_data"
    }
   ],
   "source": [
    "x9=data['_MFCC_Mean_5']\n",
    "y=data['Class']\n",
    "pt.plot(x9,y)"
   ]
  },
  {
   "cell_type": "code",
   "execution_count": 13,
   "metadata": {},
   "outputs": [
    {
     "data": {
      "text/plain": [
       "[<matplotlib.lines.Line2D at 0x27a08ab1f40>]"
      ]
     },
     "execution_count": 13,
     "metadata": {},
     "output_type": "execute_result"
    },
    {
     "data": {
      "image/png": "[encoded data removed]",
      "text/plain": [
       "<Figure size 432x288 with 1 Axes>"
      ]
     },
     "metadata": {
      "needs_background": "light"
     },
     "output_type": "display_data"
    }
   ],
   "source": [
    "x10=data['_MFCC_Mean_6']\n",
    "y=data['Class']\n",
    "pt.plot(x10,y)"
   ]
  },
  {
   "cell_type": "code",
   "execution_count": 14,
   "metadata": {},
   "outputs": [
    {
     "data": {
      "text/plain": [
       "[<matplotlib.lines.Line2D at 0x27a08b06fa0>]"
      ]
     },
     "execution_count": 14,
     "metadata": {},
     "output_type": "execute_result"
    },
    {
     "data": {
      "image/png": "[encoded data removed]",
      "text/plain": [
       "<Figure size 432x288 with 1 Axes>"
      ]
     },
     "metadata": {
      "needs_background": "light"
     },
     "output_type": "display_data"
    }
   ],
   "source": [
    "x11=data['_MFCC_Mean_7']\n",
    "y=data['Class']\n",
    "pt.plot(x11,y)"
   ]
  },
  {
   "cell_type": "code",
   "execution_count": 15,
   "metadata": {},
   "outputs": [
    {
     "data": {
      "text/plain": [
       "[<matplotlib.lines.Line2D at 0x27a08b63880>]"
      ]
     },
     "execution_count": 15,
     "metadata": {},
     "output_type": "execute_result"
    },
    {
     "data": {
      "image/png": "[encoded data removed]",
      "text/plain": [
       "<Figure size 432x288 with 1 Axes>"
      ]
     },
     "metadata": {
      "needs_background": "light"
     },
     "output_type": "display_data"
    }
   ],
   "source": [
    "x12=data['_MFCC_Mean_8']\n",
    "y=data['Class']\n",
    "pt.plot(x12,y)"
   ]
  },
  {
   "cell_type": "code",
   "execution_count": 16,
   "metadata": {},
   "outputs": [
    {
     "data": {
      "text/plain": [
       "[<matplotlib.lines.Line2D at 0x27a08bb1fa0>]"
      ]
     },
     "execution_count": 16,
     "metadata": {},
     "output_type": "execute_result"
    },
    {
     "data": {
      "image/png": "[encoded data removed]",
      "text/plain": [
       "<Figure size 432x288 with 1 Axes>"
      ]
     },
     "metadata": {
      "needs_background": "light"
     },
     "output_type": "display_data"
    }
   ],
   "source": [
    "x13=data['_MFCC_Mean_9']\n",
    "y=data['Class']\n",
    "pt.plot(x13,y)"
   ]
  },
  {
   "cell_type": "code",
   "execution_count": 17,
   "metadata": {},
   "outputs": [
    {
     "data": {
      "text/plain": [
       "[<matplotlib.lines.Line2D at 0x27a08c09700>]"
      ]
     },
     "execution_count": 17,
     "metadata": {},
     "output_type": "execute_result"
    },
    {
     "data": {
      "image/png": "[encoded data removed]",
      "text/plain": [
       "<Figure size 432x288 with 1 Axes>"
      ]
     },
     "metadata": {
      "needs_background": "light"
     },
     "output_type": "display_data"
    }
   ],
   "source": [
    "x14=data['_MFCC_Mean_10']\n",
    "y=data['Class']\n",
    "pt.plot(x14,y)"
   ]
  },
  {
   "cell_type": "code",
   "execution_count": 18,
   "metadata": {},
   "outputs": [
    {
     "data": {
      "text/plain": [
       "[<matplotlib.lines.Line2D at 0x27a08c55ac0>]"
      ]
     },
     "execution_count": 18,
     "metadata": {},
     "output_type": "execute_result"
    },
    {
     "data": {
      "image/png": "[encoded data removed]",
      "text/plain": [
       "<Figure size 432x288 with 1 Axes>"
      ]
     },
     "metadata": {
      "needs_background": "light"
     },
     "output_type": "display_data"
    }
   ],
   "source": [
    "x15=data['_MFCC_Mean_11']\n",
    "y=data['Class']\n",
    "pt.plot(x15,y)"
   ]
  },
  {
   "cell_type": "code",
   "execution_count": 19,
   "metadata": {},
   "outputs": [
    {
     "data": {
      "text/plain": [
       "[<matplotlib.lines.Line2D at 0x27a08c9fb80>]"
      ]
     },
     "execution_count": 19,
     "metadata": {},
     "output_type": "execute_result"
    },
    {
     "data": {
      "image/png": "[encoded data removed]",
      "text/plain": [
       "<Figure size 432x288 with 1 Axes>"
      ]
     },
     "metadata": {
      "needs_background": "light"
     },
     "output_type": "display_data"
    }
   ],
   "source": [
    "x16=data['_MFCC_Mean_12']\n",
    "y=data['Class']\n",
    "pt.plot(x16,y)"
   ]
  },
  {
   "cell_type": "code",
   "execution_count": 20,
   "metadata": {},
   "outputs": [
    {
     "data": {
      "text/plain": [
       "[<matplotlib.lines.Line2D at 0x27a08cf0d60>]"
      ]
     },
     "execution_count": 20,
     "metadata": {},
     "output_type": "execute_result"
    },
    {
     "data": {
      "image/png": "[encoded data removed]",
      "text/plain": [
       "<Figure size 432x288 with 1 Axes>"
      ]
     },
     "metadata": {
      "needs_background": "light"
     },
     "output_type": "display_data"
    }
   ],
   "source": [
    "x17=data['_MFCC_Mean_13']\n",
    "y=data['Class']\n",
    "pt.plot(x17,y)"
   ]
  },
  {
   "cell_type": "code",
   "execution_count": 21,
   "metadata": {},
   "outputs": [
    {
     "data": {
      "text/plain": [
       "[<matplotlib.lines.Line2D at 0x27a078ebbe0>]"
      ]
     },
     "execution_count": 21,
     "metadata": {},
     "output_type": "execute_result"
    },
    {
     "data": {
      "image/png": "[encoded data removed]",
      "text/plain": [
       "<Figure size 432x288 with 1 Axes>"
      ]
     },
     "metadata": {
      "needs_background": "light"
     },
     "output_type": "display_data"
    }
   ],
   "source": [
    "x18=data['_Roughness_Mean']\n",
    "y=data['Class']\n",
    "pt.plot(x18,y)"
   ]
  },
  {
   "cell_type": "code",
   "execution_count": 22,
   "metadata": {},
   "outputs": [
    {
     "data": {
      "text/plain": [
       "[<matplotlib.lines.Line2D at 0x27a08cca3d0>]"
      ]
     },
     "execution_count": 22,
     "metadata": {},
     "output_type": "execute_result"
    },
    {
     "data": {
      "image/png": "[encoded data removed]",
      "text/plain": [
       "<Figure size 432x288 with 1 Axes>"
      ]
     },
     "metadata": {
      "needs_background": "light"
     },
     "output_type": "display_data"
    }
   ],
   "source": [
    "x19=data['_Roughness_Slope']\n",
    "y=data['Class']\n",
    "pt.plot(x19,y)"
   ]
  },
  {
   "cell_type": "code",
   "execution_count": 23,
   "metadata": {},
   "outputs": [],
   "source": [
    "from sklearn.preprocessing import LabelEncoder"
   ]
  },
  {
   "cell_type": "code",
   "execution_count": 24,
   "metadata": {},
   "outputs": [],
   "source": [
    "le_Class=LabelEncoder()"
   ]
  },
  {
   "cell_type": "code",
   "execution_count": 25,
   "metadata": {},
   "outputs": [],
   "source": [
    "data['Class_n']=le_Class.fit_transform(data['Class'])\n"
   ]
  },
  {
   "cell_type": "markdown",
   "metadata": {},
   "source": [
    "relax=2\n",
    "happy=1\n",
    "sad=3\n",
    "angry=0"
   ]
  },
  {
   "cell_type": "code",
   "execution_count": 26,
   "metadata": {},
   "outputs": [
    {
     "data": {
      "text/plain": [
       "0      2\n",
       "1      2\n",
       "2      2\n",
       "3      2\n",
       "4      2\n",
       "      ..\n",
       "395    0\n",
       "396    0\n",
       "397    0\n",
       "398    0\n",
       "399    0\n",
       "Name: Class_n, Length: 400, dtype: int32"
      ]
     },
     "execution_count": 26,
     "metadata": {},
     "output_type": "execute_result"
    }
   ],
   "source": [
    "independent = data.drop(['Class','Class_n'],axis='columns')\n",
    "dependent = data['Class_n']\n",
    "dependent"
   ]
  },
  {
   "cell_type": "code",
   "execution_count": 27,
   "metadata": {},
   "outputs": [
    {
     "data": {
      "text/html": [
       "<div>\n",
       "<style scoped>\n",
       "    .dataframe tbody tr th:only-of-type {\n",
       "        vertical-align: middle;\n",
       "    }\n",
       "\n",
       "    .dataframe tbody tr th {\n",
       "        vertical-align: top;\n",
       "    }\n",
       "\n",
       "    .dataframe thead th {\n",
       "        text-align: right;\n",
       "    }\n",
       "</style>\n",
       "<table border=\"1\" class=\"dataframe\">\n",
       "  <thead>\n",
       "    <tr style=\"text-align: right;\">\n",
       "      <th></th>\n",
       "      <th>_RMSenergy_Mean</th>\n",
       "      <th>_Lowenergy_Mean</th>\n",
       "      <th>_Fluctuation_Mean</th>\n",
       "      <th>_Tempo_Mean</th>\n",
       "      <th>_MFCC_Mean_1</th>\n",
       "      <th>_MFCC_Mean_2</th>\n",
       "      <th>_MFCC_Mean_3</th>\n",
       "      <th>_MFCC_Mean_4</th>\n",
       "      <th>_MFCC_Mean_5</th>\n",
       "      <th>_MFCC_Mean_6</th>\n",
       "      <th>_MFCC_Mean_7</th>\n",
       "      <th>_MFCC_Mean_8</th>\n",
       "      <th>_MFCC_Mean_9</th>\n",
       "      <th>_MFCC_Mean_10</th>\n",
       "      <th>_MFCC_Mean_11</th>\n",
       "      <th>_MFCC_Mean_12</th>\n",
       "      <th>_MFCC_Mean_13</th>\n",
       "      <th>_Roughness_Mean</th>\n",
       "      <th>_Roughness_Slope</th>\n",
       "    </tr>\n",
       "  </thead>\n",
       "  <tbody>\n",
       "    <tr>\n",
       "      <th>0</th>\n",
       "      <td>0.052</td>\n",
       "      <td>0.591</td>\n",
       "      <td>9.136</td>\n",
       "      <td>130.043</td>\n",
       "      <td>3.997</td>\n",
       "      <td>0.363</td>\n",
       "      <td>0.887</td>\n",
       "      <td>0.078</td>\n",
       "      <td>0.221</td>\n",
       "      <td>0.118</td>\n",
       "      <td>-0.151</td>\n",
       "      <td>-0.131</td>\n",
       "      <td>0.129</td>\n",
       "      <td>0.154</td>\n",
       "      <td>0.274</td>\n",
       "      <td>0.232</td>\n",
       "      <td>0.246</td>\n",
       "      <td>51.542</td>\n",
       "      <td>0.325</td>\n",
       "    </tr>\n",
       "    <tr>\n",
       "      <th>1</th>\n",
       "      <td>0.125</td>\n",
       "      <td>0.439</td>\n",
       "      <td>6.680</td>\n",
       "      <td>142.240</td>\n",
       "      <td>4.058</td>\n",
       "      <td>0.516</td>\n",
       "      <td>0.785</td>\n",
       "      <td>0.397</td>\n",
       "      <td>0.556</td>\n",
       "      <td>0.799</td>\n",
       "      <td>-0.403</td>\n",
       "      <td>-0.264</td>\n",
       "      <td>-0.057</td>\n",
       "      <td>0.288</td>\n",
       "      <td>0.309</td>\n",
       "      <td>0.049</td>\n",
       "      <td>0.027</td>\n",
       "      <td>336.839</td>\n",
       "      <td>0.366</td>\n",
       "    </tr>\n",
       "    <tr>\n",
       "      <th>2</th>\n",
       "      <td>0.046</td>\n",
       "      <td>0.639</td>\n",
       "      <td>10.578</td>\n",
       "      <td>188.154</td>\n",
       "      <td>2.775</td>\n",
       "      <td>0.903</td>\n",
       "      <td>0.502</td>\n",
       "      <td>0.329</td>\n",
       "      <td>0.287</td>\n",
       "      <td>0.140</td>\n",
       "      <td>-0.246</td>\n",
       "      <td>0.025</td>\n",
       "      <td>-0.112</td>\n",
       "      <td>-0.422</td>\n",
       "      <td>0.018</td>\n",
       "      <td>0.179</td>\n",
       "      <td>0.138</td>\n",
       "      <td>39.864</td>\n",
       "      <td>0.224</td>\n",
       "    </tr>\n",
       "    <tr>\n",
       "      <th>3</th>\n",
       "      <td>0.135</td>\n",
       "      <td>0.603</td>\n",
       "      <td>10.442</td>\n",
       "      <td>65.991</td>\n",
       "      <td>2.841</td>\n",
       "      <td>1.552</td>\n",
       "      <td>0.612</td>\n",
       "      <td>0.351</td>\n",
       "      <td>0.011</td>\n",
       "      <td>0.143</td>\n",
       "      <td>0.047</td>\n",
       "      <td>0.242</td>\n",
       "      <td>0.018</td>\n",
       "      <td>0.168</td>\n",
       "      <td>0.141</td>\n",
       "      <td>0.245</td>\n",
       "      <td>0.146</td>\n",
       "      <td>353.744</td>\n",
       "      <td>0.215</td>\n",
       "    </tr>\n",
       "    <tr>\n",
       "      <th>4</th>\n",
       "      <td>0.066</td>\n",
       "      <td>0.591</td>\n",
       "      <td>9.769</td>\n",
       "      <td>88.890</td>\n",
       "      <td>3.217</td>\n",
       "      <td>0.228</td>\n",
       "      <td>0.814</td>\n",
       "      <td>0.096</td>\n",
       "      <td>0.434</td>\n",
       "      <td>0.285</td>\n",
       "      <td>0.104</td>\n",
       "      <td>0.013</td>\n",
       "      <td>-0.235</td>\n",
       "      <td>-0.207</td>\n",
       "      <td>-0.276</td>\n",
       "      <td>-0.294</td>\n",
       "      <td>-0.190</td>\n",
       "      <td>46.884</td>\n",
       "      <td>-0.118</td>\n",
       "    </tr>\n",
       "    <tr>\n",
       "      <th>...</th>\n",
       "      <td>...</td>\n",
       "      <td>...</td>\n",
       "      <td>...</td>\n",
       "      <td>...</td>\n",
       "      <td>...</td>\n",
       "      <td>...</td>\n",
       "      <td>...</td>\n",
       "      <td>...</td>\n",
       "      <td>...</td>\n",
       "      <td>...</td>\n",
       "      <td>...</td>\n",
       "      <td>...</td>\n",
       "      <td>...</td>\n",
       "      <td>...</td>\n",
       "      <td>...</td>\n",
       "      <td>...</td>\n",
       "      <td>...</td>\n",
       "      <td>...</td>\n",
       "      <td>...</td>\n",
       "    </tr>\n",
       "    <tr>\n",
       "      <th>395</th>\n",
       "      <td>0.174</td>\n",
       "      <td>0.578</td>\n",
       "      <td>5.265</td>\n",
       "      <td>161.144</td>\n",
       "      <td>2.985</td>\n",
       "      <td>0.065</td>\n",
       "      <td>0.718</td>\n",
       "      <td>0.046</td>\n",
       "      <td>0.265</td>\n",
       "      <td>0.104</td>\n",
       "      <td>0.198</td>\n",
       "      <td>0.076</td>\n",
       "      <td>-0.129</td>\n",
       "      <td>-0.057</td>\n",
       "      <td>-0.173</td>\n",
       "      <td>-0.082</td>\n",
       "      <td>0.053</td>\n",
       "      <td>547.713</td>\n",
       "      <td>0.060</td>\n",
       "    </tr>\n",
       "    <tr>\n",
       "      <th>396</th>\n",
       "      <td>0.176</td>\n",
       "      <td>0.498</td>\n",
       "      <td>5.042</td>\n",
       "      <td>179.787</td>\n",
       "      <td>2.790</td>\n",
       "      <td>-0.148</td>\n",
       "      <td>0.342</td>\n",
       "      <td>-0.011</td>\n",
       "      <td>0.029</td>\n",
       "      <td>0.039</td>\n",
       "      <td>0.065</td>\n",
       "      <td>-0.013</td>\n",
       "      <td>-0.129</td>\n",
       "      <td>0.029</td>\n",
       "      <td>-0.038</td>\n",
       "      <td>-0.035</td>\n",
       "      <td>0.038</td>\n",
       "      <td>1121.910</td>\n",
       "      <td>0.032</td>\n",
       "    </tr>\n",
       "    <tr>\n",
       "      <th>397</th>\n",
       "      <td>0.187</td>\n",
       "      <td>0.557</td>\n",
       "      <td>4.724</td>\n",
       "      <td>134.032</td>\n",
       "      <td>1.672</td>\n",
       "      <td>0.566</td>\n",
       "      <td>0.880</td>\n",
       "      <td>-0.113</td>\n",
       "      <td>0.244</td>\n",
       "      <td>0.214</td>\n",
       "      <td>0.278</td>\n",
       "      <td>0.170</td>\n",
       "      <td>-0.049</td>\n",
       "      <td>-0.056</td>\n",
       "      <td>-0.111</td>\n",
       "      <td>-0.003</td>\n",
       "      <td>0.011</td>\n",
       "      <td>889.926</td>\n",
       "      <td>-0.010</td>\n",
       "    </tr>\n",
       "    <tr>\n",
       "      <th>398</th>\n",
       "      <td>0.140</td>\n",
       "      <td>0.573</td>\n",
       "      <td>4.470</td>\n",
       "      <td>113.600</td>\n",
       "      <td>1.997</td>\n",
       "      <td>-0.210</td>\n",
       "      <td>0.694</td>\n",
       "      <td>0.089</td>\n",
       "      <td>0.206</td>\n",
       "      <td>0.062</td>\n",
       "      <td>0.173</td>\n",
       "      <td>0.243</td>\n",
       "      <td>-0.036</td>\n",
       "      <td>-0.149</td>\n",
       "      <td>-0.049</td>\n",
       "      <td>-0.078</td>\n",
       "      <td>0.035</td>\n",
       "      <td>408.726</td>\n",
       "      <td>0.174</td>\n",
       "    </tr>\n",
       "    <tr>\n",
       "      <th>399</th>\n",
       "      <td>0.086</td>\n",
       "      <td>0.475</td>\n",
       "      <td>5.343</td>\n",
       "      <td>151.748</td>\n",
       "      <td>2.240</td>\n",
       "      <td>-0.014</td>\n",
       "      <td>0.834</td>\n",
       "      <td>-0.021</td>\n",
       "      <td>0.345</td>\n",
       "      <td>0.266</td>\n",
       "      <td>0.310</td>\n",
       "      <td>0.155</td>\n",
       "      <td>-0.003</td>\n",
       "      <td>0.016</td>\n",
       "      <td>-0.041</td>\n",
       "      <td>-0.055</td>\n",
       "      <td>0.075</td>\n",
       "      <td>258.400</td>\n",
       "      <td>0.000</td>\n",
       "    </tr>\n",
       "  </tbody>\n",
       "</table>\n",
       "<p>400 rows × 19 columns</p>\n",
       "</div>"
      ],
      "text/plain": [
       "     _RMSenergy_Mean  _Lowenergy_Mean  _Fluctuation_Mean  _Tempo_Mean  \\\n",
       "0              0.052            0.591              9.136      130.043   \n",
       "1              0.125            0.439              6.680      142.240   \n",
       "2              0.046            0.639             10.578      188.154   \n",
       "3              0.135            0.603             10.442       65.991   \n",
       "4              0.066            0.591              9.769       88.890   \n",
       "..               ...              ...                ...          ...   \n",
       "395            0.174            0.578              5.265      161.144   \n",
       "396            0.176            0.498              5.042      179.787   \n",
       "397            0.187            0.557              4.724      134.032   \n",
       "398            0.140            0.573              4.470      113.600   \n",
       "399            0.086            0.475              5.343      151.748   \n",
       "\n",
       "     _MFCC_Mean_1  _MFCC_Mean_2  _MFCC_Mean_3  _MFCC_Mean_4  _MFCC_Mean_5  \\\n",
       "0           3.997         0.363         0.887         0.078         0.221   \n",
       "1           4.058         0.516         0.785         0.397         0.556   \n",
       "2           2.775         0.903         0.502         0.329         0.287   \n",
       "3           2.841         1.552         0.612         0.351         0.011   \n",
       "4           3.217         0.228         0.814         0.096         0.434   \n",
       "..            ...           ...           ...           ...           ...   \n",
       "395         2.985         0.065         0.718         0.046         0.265   \n",
       "396         2.790        -0.148         0.342        -0.011         0.029   \n",
       "397         1.672         0.566         0.880        -0.113         0.244   \n",
       "398         1.997        -0.210         0.694         0.089         0.206   \n",
       "399         2.240        -0.014         0.834        -0.021         0.345   \n",
       "\n",
       "     _MFCC_Mean_6  _MFCC_Mean_7  _MFCC_Mean_8  _MFCC_Mean_9  _MFCC_Mean_10  \\\n",
       "0           0.118        -0.151        -0.131         0.129          0.154   \n",
       "1           0.799        -0.403        -0.264        -0.057          0.288   \n",
       "2           0.140        -0.246         0.025        -0.112         -0.422   \n",
       "3           0.143         0.047         0.242         0.018          0.168   \n",
       "4           0.285         0.104         0.013        -0.235         -0.207   \n",
       "..            ...           ...           ...           ...            ...   \n",
       "395         0.104         0.198         0.076        -0.129         -0.057   \n",
       "396         0.039         0.065        -0.013        -0.129          0.029   \n",
       "397         0.214         0.278         0.170        -0.049         -0.056   \n",
       "398         0.062         0.173         0.243        -0.036         -0.149   \n",
       "399         0.266         0.310         0.155        -0.003          0.016   \n",
       "\n",
       "     _MFCC_Mean_11  _MFCC_Mean_12  _MFCC_Mean_13  _Roughness_Mean  \\\n",
       "0            0.274          0.232          0.246           51.542   \n",
       "1            0.309          0.049          0.027          336.839   \n",
       "2            0.018          0.179          0.138           39.864   \n",
       "3            0.141          0.245          0.146          353.744   \n",
       "4           -0.276         -0.294         -0.190           46.884   \n",
       "..             ...            ...            ...              ...   \n",
       "395         -0.173         -0.082          0.053          547.713   \n",
       "396         -0.038         -0.035          0.038         1121.910   \n",
       "397         -0.111         -0.003          0.011          889.926   \n",
       "398         -0.049         -0.078          0.035          408.726   \n",
       "399         -0.041         -0.055          0.075          258.400   \n",
       "\n",
       "     _Roughness_Slope  \n",
       "0               0.325  \n",
       "1               0.366  \n",
       "2               0.224  \n",
       "3               0.215  \n",
       "4              -0.118  \n",
       "..                ...  \n",
       "395             0.060  \n",
       "396             0.032  \n",
       "397            -0.010  \n",
       "398             0.174  \n",
       "399             0.000  \n",
       "\n",
       "[400 rows x 19 columns]"
      ]
     },
     "execution_count": 27,
     "metadata": {},
     "output_type": "execute_result"
    }
   ],
   "source": [
    "independent"
   ]
  },
  {
   "cell_type": "code",
   "execution_count": 28,
   "metadata": {},
   "outputs": [],
   "source": [
    "from sklearn.model_selection import train_test_split"
   ]
  },
  {
   "cell_type": "code",
   "execution_count": 29,
   "metadata": {},
   "outputs": [],
   "source": [
    "x=independent\n",
    "y=dependent"
   ]
  },
  {
   "cell_type": "code",
   "execution_count": 30,
   "metadata": {},
   "outputs": [],
   "source": [
    "x_train, x_test, y_train, y_test = train_test_split(x,y,test_size=0.2)"
   ]
  },
  {
   "cell_type": "code",
   "execution_count": 31,
   "metadata": {},
   "outputs": [
    {
     "data": {
      "text/plain": [
       "320"
      ]
     },
     "execution_count": 31,
     "metadata": {},
     "output_type": "execute_result"
    }
   ],
   "source": [
    "len(y_train)"
   ]
  },
  {
   "cell_type": "code",
   "execution_count": 32,
   "metadata": {},
   "outputs": [
    {
     "data": {
      "text/plain": [
       "80"
      ]
     },
     "execution_count": 32,
     "metadata": {},
     "output_type": "execute_result"
    }
   ],
   "source": [
    "len(y_test)"
   ]
  },
  {
   "cell_type": "code",
   "execution_count": 33,
   "metadata": {},
   "outputs": [],
   "source": [
    "from sklearn import tree\n",
    "model =tree.DecisionTreeClassifier()"
   ]
  },
  {
   "cell_type": "code",
   "execution_count": 34,
   "metadata": {},
   "outputs": [],
   "source": [
    "model=model.fit(x_train,y_train)"
   ]
  },
  {
   "cell_type": "code",
   "execution_count": 35,
   "metadata": {},
   "outputs": [
    {
     "data": {
      "text/plain": [
       "0.5625"
      ]
     },
     "execution_count": 35,
     "metadata": {},
     "output_type": "execute_result"
    }
   ],
   "source": [
    "model.score(x_test,y_test)"
   ]
  },
  {
   "cell_type": "code",
   "execution_count": 36,
   "metadata": {},
   "outputs": [
    {
     "data": {
      "text/plain": [
       "1.0"
      ]
     },
     "execution_count": 36,
     "metadata": {},
     "output_type": "execute_result"
    }
   ],
   "source": [
    "model.score(x_train, y_train)"
   ]
  },
  {
   "cell_type": "code",
   "execution_count": 37,
   "metadata": {},
   "outputs": [
    {
     "data": {
      "text/plain": [
       "[Text(108.23163819875778, 208.38, 'X[2] <= 5.453\\ngini = 0.75\\nsamples = 320\\nvalue = [77, 81, 83, 79]'),\n",
       " Text(16.6360248447205, 190.26, 'X[7] <= -0.23\\ngini = 0.234\\nsamples = 46\\nvalue = [40, 2, 0, 4]'),\n",
       " Text(8.31801242236025, 172.14, 'X[8] <= 0.038\\ngini = 0.444\\nsamples = 3\\nvalue = [0, 1, 0, 2]'),\n",
       " Text(4.159006211180125, 154.01999999999998, 'gini = 0.0\\nsamples = 1\\nvalue = [0, 1, 0, 0]'),\n",
       " Text(12.477018633540375, 154.01999999999998, 'gini = 0.0\\nsamples = 2\\nvalue = [0, 0, 0, 2]'),\n",
       " Text(24.95403726708075, 172.14, 'X[13] <= -0.174\\ngini = 0.132\\nsamples = 43\\nvalue = [40, 1, 0, 2]'),\n",
       " Text(20.795031055900623, 154.01999999999998, 'gini = 0.0\\nsamples = 1\\nvalue = [0, 1, 0, 0]'),\n",
       " Text(29.113043478260874, 154.01999999999998, 'X[6] <= 0.328\\ngini = 0.091\\nsamples = 42\\nvalue = [40, 0, 0, 2]'),\n",
       " Text(24.95403726708075, 135.89999999999998, 'X[2] <= 4.838\\ngini = 0.48\\nsamples = 5\\nvalue = [3, 0, 0, 2]'),\n",
       " Text(20.795031055900623, 117.77999999999999, 'gini = 0.0\\nsamples = 2\\nvalue = [2, 0, 0, 0]'),\n",
       " Text(29.113043478260874, 117.77999999999999, 'X[0] <= 0.069\\ngini = 0.444\\nsamples = 3\\nvalue = [1, 0, 0, 2]'),\n",
       " Text(24.95403726708075, 99.66, 'gini = 0.0\\nsamples = 1\\nvalue = [1, 0, 0, 0]'),\n",
       " Text(33.272049689441, 99.66, 'gini = 0.0\\nsamples = 2\\nvalue = [0, 0, 0, 2]'),\n",
       " Text(33.272049689441, 135.89999999999998, 'gini = 0.0\\nsamples = 37\\nvalue = [37, 0, 0, 0]'),\n",
       " Text(199.82725155279505, 190.26, 'X[4] <= 2.528\\ngini = 0.732\\nsamples = 274\\nvalue = [37, 79, 83, 75]'),\n",
       " Text(128.92919254658386, 172.14, 'X[5] <= 0.468\\ngini = 0.663\\nsamples = 147\\nvalue = [21, 74, 23, 29]'),\n",
       " Text(87.33913043478262, 154.01999999999998, 'X[2] <= 6.872\\ngini = 0.572\\nsamples = 119\\nvalue = [21, 72, 6, 20]'),\n",
       " Text(58.22608695652175, 135.89999999999998, 'X[10] <= 0.022\\ngini = 0.696\\nsamples = 57\\nvalue = [19, 21, 4, 13]'),\n",
       " Text(45.74906832298137, 117.77999999999999, 'X[8] <= 0.347\\ngini = 0.515\\nsamples = 20\\nvalue = [0, 13, 4, 3]'),\n",
       " Text(41.590062111801245, 99.66, 'X[2] <= 6.677\\ngini = 0.426\\nsamples = 18\\nvalue = [0, 13, 4, 1]'),\n",
       " Text(33.272049689441, 81.53999999999999, 'X[13] <= 0.297\\ngini = 0.255\\nsamples = 14\\nvalue = [0, 12, 1, 1]'),\n",
       " Text(29.113043478260874, 63.41999999999999, 'X[2] <= 5.515\\ngini = 0.142\\nsamples = 13\\nvalue = [0, 12, 1, 0]'),\n",
       " Text(24.95403726708075, 45.29999999999998, 'gini = 0.0\\nsamples = 1\\nvalue = [0, 0, 1, 0]'),\n",
       " Text(33.272049689441, 45.29999999999998, 'gini = 0.0\\nsamples = 12\\nvalue = [0, 12, 0, 0]'),\n",
       " Text(37.431055900621125, 63.41999999999999, 'gini = 0.0\\nsamples = 1\\nvalue = [0, 0, 0, 1]'),\n",
       " Text(49.9080745341615, 81.53999999999999, 'X[18] <= 0.008\\ngini = 0.375\\nsamples = 4\\nvalue = [0, 1, 3, 0]'),\n",
       " Text(45.74906832298137, 63.41999999999999, 'gini = 0.0\\nsamples = 1\\nvalue = [0, 1, 0, 0]'),\n",
       " Text(54.06708074534162, 63.41999999999999, 'gini = 0.0\\nsamples = 3\\nvalue = [0, 0, 3, 0]'),\n",
       " Text(49.9080745341615, 99.66, 'gini = 0.0\\nsamples = 2\\nvalue = [0, 0, 0, 2]'),\n",
       " Text(70.70310559006212, 117.77999999999999, 'X[9] <= -0.068\\ngini = 0.617\\nsamples = 37\\nvalue = [19, 8, 0, 10]'),\n",
       " Text(62.38509316770187, 99.66, 'X[3] <= 167.266\\ngini = 0.278\\nsamples = 6\\nvalue = [0, 5, 0, 1]'),\n",
       " Text(58.22608695652175, 81.53999999999999, 'gini = 0.0\\nsamples = 5\\nvalue = [0, 5, 0, 0]'),\n",
       " Text(66.544099378882, 81.53999999999999, 'gini = 0.0\\nsamples = 1\\nvalue = [0, 0, 0, 1]'),\n",
       " Text(79.02111801242236, 99.66, 'X[5] <= -0.377\\ngini = 0.531\\nsamples = 31\\nvalue = [19, 3, 0, 9]'),\n",
       " Text(74.86211180124225, 81.53999999999999, 'gini = 0.0\\nsamples = 4\\nvalue = [0, 0, 0, 4]'),\n",
       " Text(83.18012422360249, 81.53999999999999, 'X[13] <= 0.008\\ngini = 0.458\\nsamples = 27\\nvalue = [19, 3, 0, 5]'),\n",
       " Text(72.78260869565219, 63.41999999999999, 'X[4] <= 2.332\\ngini = 0.625\\nsamples = 12\\nvalue = [5, 2, 0, 5]'),\n",
       " Text(64.46459627329193, 45.29999999999998, 'X[5] <= 0.12\\ngini = 0.449\\nsamples = 7\\nvalue = [5, 1, 0, 1]'),\n",
       " Text(60.30559006211181, 27.17999999999998, 'gini = 0.0\\nsamples = 5\\nvalue = [5, 0, 0, 0]'),\n",
       " Text(68.62360248447206, 27.17999999999998, 'X[12] <= -0.019\\ngini = 0.5\\nsamples = 2\\nvalue = [0, 1, 0, 1]'),\n",
       " Text(64.46459627329193, 9.059999999999974, 'gini = 0.0\\nsamples = 1\\nvalue = [0, 1, 0, 0]'),\n",
       " Text(72.78260869565219, 9.059999999999974, 'gini = 0.0\\nsamples = 1\\nvalue = [0, 0, 0, 1]'),\n",
       " Text(81.10062111801243, 45.29999999999998, 'X[10] <= 0.226\\ngini = 0.32\\nsamples = 5\\nvalue = [0, 1, 0, 4]'),\n",
       " Text(76.94161490683231, 27.17999999999998, 'gini = 0.0\\nsamples = 4\\nvalue = [0, 0, 0, 4]'),\n",
       " Text(85.25962732919255, 27.17999999999998, 'gini = 0.0\\nsamples = 1\\nvalue = [0, 1, 0, 0]'),\n",
       " Text(93.57763975155281, 63.41999999999999, 'X[18] <= 0.141\\ngini = 0.124\\nsamples = 15\\nvalue = [14, 1, 0, 0]'),\n",
       " Text(89.41863354037268, 45.29999999999998, 'gini = 0.0\\nsamples = 14\\nvalue = [14, 0, 0, 0]'),\n",
       " Text(97.73664596273294, 45.29999999999998, 'gini = 0.0\\nsamples = 1\\nvalue = [0, 1, 0, 0]'),\n",
       " Text(116.4521739130435, 135.89999999999998, 'X[9] <= 0.117\\ngini = 0.309\\nsamples = 62\\nvalue = [2, 51, 2, 7]'),\n",
       " Text(103.97515527950311, 117.77999999999999, 'X[9] <= -0.495\\ngini = 0.151\\nsamples = 50\\nvalue = [1, 46, 1, 2]'),\n",
       " Text(95.65714285714287, 99.66, 'X[4] <= 2.012\\ngini = 0.444\\nsamples = 3\\nvalue = [0, 0, 1, 2]'),\n",
       " Text(91.49813664596275, 81.53999999999999, 'gini = 0.0\\nsamples = 2\\nvalue = [0, 0, 0, 2]'),\n",
       " Text(99.816149068323, 81.53999999999999, 'gini = 0.0\\nsamples = 1\\nvalue = [0, 0, 1, 0]'),\n",
       " Text(112.29316770186337, 99.66, 'X[0] <= 0.365\\ngini = 0.042\\nsamples = 47\\nvalue = [1, 46, 0, 0]'),\n",
       " Text(108.13416149068324, 81.53999999999999, 'gini = 0.0\\nsamples = 46\\nvalue = [0, 46, 0, 0]'),\n",
       " Text(116.4521739130435, 81.53999999999999, 'gini = 0.0\\nsamples = 1\\nvalue = [1, 0, 0, 0]'),\n",
       " Text(128.92919254658386, 117.77999999999999, 'X[14] <= -0.049\\ngini = 0.639\\nsamples = 12\\nvalue = [1, 5, 1, 5]'),\n",
       " Text(124.77018633540374, 99.66, 'gini = 0.0\\nsamples = 4\\nvalue = [0, 0, 0, 4]'),\n",
       " Text(133.088198757764, 99.66, 'X[6] <= 0.51\\ngini = 0.562\\nsamples = 8\\nvalue = [1, 5, 1, 1]'),\n",
       " Text(124.77018633540374, 81.53999999999999, 'X[9] <= 0.26\\ngini = 0.278\\nsamples = 6\\nvalue = [0, 5, 0, 1]'),\n",
       " Text(120.61118012422362, 63.41999999999999, 'gini = 0.0\\nsamples = 5\\nvalue = [0, 5, 0, 0]'),\n",
       " Text(128.92919254658386, 63.41999999999999, 'gini = 0.0\\nsamples = 1\\nvalue = [0, 0, 0, 1]'),\n",
       " Text(141.40621118012425, 81.53999999999999, 'X[4] <= 1.427\\ngini = 0.5\\nsamples = 2\\nvalue = [1, 0, 1, 0]'),\n",
       " Text(137.24720496894412, 63.41999999999999, 'gini = 0.0\\nsamples = 1\\nvalue = [1, 0, 0, 0]'),\n",
       " Text(145.56521739130437, 63.41999999999999, 'gini = 0.0\\nsamples = 1\\nvalue = [0, 0, 1, 0]'),\n",
       " Text(170.5192546583851, 154.01999999999998, 'X[12] <= 0.253\\ngini = 0.523\\nsamples = 28\\nvalue = [0, 2, 17, 9]'),\n",
       " Text(166.36024844720498, 135.89999999999998, 'X[10] <= 0.325\\ngini = 0.448\\nsamples = 24\\nvalue = [0, 2, 17, 5]'),\n",
       " Text(162.20124223602485, 117.77999999999999, 'X[9] <= -0.114\\ngini = 0.327\\nsamples = 21\\nvalue = [0, 2, 17, 2]'),\n",
       " Text(153.88322981366463, 99.66, 'X[6] <= 0.533\\ngini = 0.444\\nsamples = 3\\nvalue = [0, 2, 0, 1]'),\n",
       " Text(149.7242236024845, 81.53999999999999, 'gini = 0.0\\nsamples = 2\\nvalue = [0, 2, 0, 0]'),\n",
       " Text(158.04223602484473, 81.53999999999999, 'gini = 0.0\\nsamples = 1\\nvalue = [0, 0, 0, 1]'),\n",
       " Text(170.5192546583851, 99.66, 'X[18] <= -0.082\\ngini = 0.105\\nsamples = 18\\nvalue = [0, 0, 17, 1]'),\n",
       " Text(166.36024844720498, 81.53999999999999, 'gini = 0.0\\nsamples = 1\\nvalue = [0, 0, 0, 1]'),\n",
       " Text(174.67826086956524, 81.53999999999999, 'gini = 0.0\\nsamples = 17\\nvalue = [0, 0, 17, 0]'),\n",
       " Text(170.5192546583851, 117.77999999999999, 'gini = 0.0\\nsamples = 3\\nvalue = [0, 0, 0, 3]'),\n",
       " Text(174.67826086956524, 135.89999999999998, 'gini = 0.0\\nsamples = 4\\nvalue = [0, 0, 0, 4]'),\n",
       " Text(270.72531055900623, 172.14, 'X[5] <= 0.346\\ngini = 0.628\\nsamples = 127\\nvalue = [16, 5, 60, 46]'),\n",
       " Text(233.68416149068327, 154.01999999999998, 'X[18] <= 0.214\\ngini = 0.665\\nsamples = 79\\nvalue = [14, 5, 24, 36]'),\n",
       " Text(199.11242236024847, 135.89999999999998, 'X[4] <= 2.597\\ngini = 0.644\\nsamples = 55\\nvalue = [14, 4, 9, 28]'),\n",
       " Text(182.9962732919255, 117.77999999999999, 'X[12] <= -0.003\\ngini = 0.278\\nsamples = 6\\nvalue = [5, 0, 1, 0]'),\n",
       " Text(178.83726708074536, 99.66, 'gini = 0.0\\nsamples = 1\\nvalue = [0, 0, 1, 0]'),\n",
       " Text(187.15527950310562, 99.66, 'gini = 0.0\\nsamples = 5\\nvalue = [5, 0, 0, 0]'),\n",
       " Text(215.22857142857146, 117.77999999999999, 'X[13] <= 0.117\\ngini = 0.606\\nsamples = 49\\nvalue = [9, 4, 8, 28]'),\n",
       " Text(195.47329192546587, 99.66, 'X[14] <= -0.055\\ngini = 0.459\\nsamples = 35\\nvalue = [5, 2, 3, 25]'),\n",
       " Text(185.07577639751554, 81.53999999999999, 'X[5] <= 0.168\\ngini = 0.188\\nsamples = 19\\nvalue = [0, 0, 2, 17]'),\n",
       " Text(180.9167701863354, 63.41999999999999, 'gini = 0.0\\nsamples = 17\\nvalue = [0, 0, 0, 17]'),\n",
       " Text(189.23478260869567, 63.41999999999999, 'gini = 0.0\\nsamples = 2\\nvalue = [0, 0, 2, 0]'),\n",
       " Text(205.87080745341618, 81.53999999999999, 'X[6] <= 0.45\\ngini = 0.633\\nsamples = 16\\nvalue = [5, 2, 1, 8]'),\n",
       " Text(197.55279503105592, 63.41999999999999, 'X[1] <= 0.532\\ngini = 0.34\\nsamples = 10\\nvalue = [0, 1, 1, 8]'),\n",
       " Text(193.3937888198758, 45.29999999999998, 'X[4] <= 3.02\\ngini = 0.5\\nsamples = 2\\nvalue = [0, 1, 1, 0]'),\n",
       " Text(189.23478260869567, 27.17999999999998, 'gini = 0.0\\nsamples = 1\\nvalue = [0, 1, 0, 0]'),\n",
       " Text(197.55279503105592, 27.17999999999998, 'gini = 0.0\\nsamples = 1\\nvalue = [0, 0, 1, 0]'),\n",
       " Text(201.71180124223605, 45.29999999999998, 'gini = 0.0\\nsamples = 8\\nvalue = [0, 0, 0, 8]'),\n",
       " Text(214.18881987577643, 63.41999999999999, 'X[15] <= 0.161\\ngini = 0.278\\nsamples = 6\\nvalue = [5, 1, 0, 0]'),\n",
       " Text(210.0298136645963, 45.29999999999998, 'gini = 0.0\\nsamples = 5\\nvalue = [5, 0, 0, 0]'),\n",
       " Text(218.34782608695656, 45.29999999999998, 'gini = 0.0\\nsamples = 1\\nvalue = [0, 1, 0, 0]'),\n",
       " Text(234.98385093167704, 99.66, 'X[7] <= -0.041\\ngini = 0.724\\nsamples = 14\\nvalue = [4, 2, 5, 3]'),\n",
       " Text(226.66583850931679, 81.53999999999999, 'X[2] <= 6.914\\ngini = 0.571\\nsamples = 7\\nvalue = [4, 2, 1, 0]'),\n",
       " Text(222.50683229813666, 63.41999999999999, 'gini = 0.0\\nsamples = 4\\nvalue = [4, 0, 0, 0]'),\n",
       " Text(230.8248447204969, 63.41999999999999, 'X[16] <= -0.119\\ngini = 0.444\\nsamples = 3\\nvalue = [0, 2, 1, 0]'),\n",
       " Text(226.66583850931679, 45.29999999999998, 'gini = 0.0\\nsamples = 1\\nvalue = [0, 0, 1, 0]'),\n",
       " Text(234.98385093167704, 45.29999999999998, 'gini = 0.0\\nsamples = 2\\nvalue = [0, 2, 0, 0]'),\n",
       " Text(243.3018633540373, 81.53999999999999, 'X[8] <= 0.216\\ngini = 0.49\\nsamples = 7\\nvalue = [0, 0, 4, 3]'),\n",
       " Text(239.14285714285717, 63.41999999999999, 'gini = 0.0\\nsamples = 4\\nvalue = [0, 0, 4, 0]'),\n",
       " Text(247.46086956521742, 63.41999999999999, 'gini = 0.0\\nsamples = 3\\nvalue = [0, 0, 0, 3]'),\n",
       " Text(268.25590062111803, 135.89999999999998, 'X[4] <= 3.05\\ngini = 0.497\\nsamples = 24\\nvalue = [0, 1, 15, 8]'),\n",
       " Text(259.9378881987578, 117.77999999999999, 'X[11] <= -0.127\\ngini = 0.512\\nsamples = 11\\nvalue = [0, 1, 3, 7]'),\n",
       " Text(255.77888198757768, 99.66, 'gini = 0.0\\nsamples = 2\\nvalue = [0, 0, 2, 0]'),\n",
       " Text(264.09689440993793, 99.66, 'X[3] <= 101.125\\ngini = 0.37\\nsamples = 9\\nvalue = [0, 1, 1, 7]'),\n",
       " Text(259.9378881987578, 81.53999999999999, 'X[13] <= 0.071\\ngini = 0.5\\nsamples = 2\\nvalue = [0, 1, 1, 0]'),\n",
       " Text(255.77888198757768, 63.41999999999999, 'gini = 0.0\\nsamples = 1\\nvalue = [0, 0, 1, 0]'),\n",
       " Text(264.09689440993793, 63.41999999999999, 'gini = 0.0\\nsamples = 1\\nvalue = [0, 1, 0, 0]'),\n",
       " Text(268.25590062111803, 81.53999999999999, 'gini = 0.0\\nsamples = 7\\nvalue = [0, 0, 0, 7]'),\n",
       " Text(276.5739130434783, 117.77999999999999, 'X[17] <= 30.151\\ngini = 0.142\\nsamples = 13\\nvalue = [0, 0, 12, 1]'),\n",
       " Text(272.4149068322982, 99.66, 'gini = 0.0\\nsamples = 1\\nvalue = [0, 0, 0, 1]'),\n",
       " Text(280.73291925465844, 99.66, 'gini = 0.0\\nsamples = 12\\nvalue = [0, 0, 12, 0]'),\n",
       " Text(307.76645962732925, 154.01999999999998, 'X[18] <= -0.029\\ngini = 0.392\\nsamples = 48\\nvalue = [2, 0, 36, 10]'),\n",
       " Text(297.3689440993789, 135.89999999999998, 'X[3] <= 106.176\\ngini = 0.486\\nsamples = 12\\nvalue = [0, 0, 5, 7]'),\n",
       " Text(293.2099378881988, 117.77999999999999, 'X[0] <= 0.172\\ngini = 0.278\\nsamples = 6\\nvalue = [0, 0, 5, 1]'),\n",
       " Text(289.05093167701864, 99.66, 'gini = 0.0\\nsamples = 5\\nvalue = [0, 0, 5, 0]'),\n",
       " Text(297.3689440993789, 99.66, 'gini = 0.0\\nsamples = 1\\nvalue = [0, 0, 0, 1]'),\n",
       " Text(301.52795031055905, 117.77999999999999, 'gini = 0.0\\nsamples = 6\\nvalue = [0, 0, 0, 6]'),\n",
       " Text(318.16397515527956, 135.89999999999998, 'X[2] <= 6.057\\ngini = 0.248\\nsamples = 36\\nvalue = [2, 0, 31, 3]'),\n",
       " Text(309.8459627329193, 117.77999999999999, 'X[0] <= 0.169\\ngini = 0.5\\nsamples = 2\\nvalue = [1, 0, 0, 1]'),\n",
       " Text(305.68695652173915, 99.66, 'gini = 0.0\\nsamples = 1\\nvalue = [1, 0, 0, 0]'),\n",
       " Text(314.0049689440994, 99.66, 'gini = 0.0\\nsamples = 1\\nvalue = [0, 0, 0, 1]'),\n",
       " Text(326.4819875776398, 117.77999999999999, 'X[6] <= 1.11\\ngini = 0.164\\nsamples = 34\\nvalue = [1, 0, 31, 2]'),\n",
       " Text(322.32298136645966, 99.66, 'X[4] <= 4.578\\ngini = 0.116\\nsamples = 33\\nvalue = [1, 0, 31, 1]'),\n",
       " Text(318.16397515527956, 81.53999999999999, 'X[1] <= 0.521\\ngini = 0.061\\nsamples = 32\\nvalue = [1, 0, 31, 0]'),\n",
       " Text(314.0049689440994, 63.41999999999999, 'X[0] <= 0.117\\ngini = 0.444\\nsamples = 3\\nvalue = [1, 0, 2, 0]'),\n",
       " Text(309.8459627329193, 45.29999999999998, 'gini = 0.0\\nsamples = 1\\nvalue = [1, 0, 0, 0]'),\n",
       " Text(318.16397515527956, 45.29999999999998, 'gini = 0.0\\nsamples = 2\\nvalue = [0, 0, 2, 0]'),\n",
       " Text(322.32298136645966, 63.41999999999999, 'gini = 0.0\\nsamples = 29\\nvalue = [0, 0, 29, 0]'),\n",
       " Text(326.4819875776398, 81.53999999999999, 'gini = 0.0\\nsamples = 1\\nvalue = [0, 0, 0, 1]'),\n",
       " Text(330.6409937888199, 99.66, 'gini = 0.0\\nsamples = 1\\nvalue = [0, 0, 0, 1]')]"
      ]
     },
     "execution_count": 37,
     "metadata": {},
     "output_type": "execute_result"
    },
    {
     "data": {
      "image/png": "[encoded data removed]",
      "text/plain": [
       "<Figure size 432x288 with 1 Axes>"
      ]
     },
     "metadata": {
      "needs_background": "light"
     },
     "output_type": "display_data"
    }
   ],
   "source": [
    "tree.plot_tree(model)"
   ]
  },
  {
   "cell_type": "code",
   "execution_count": 38,
   "metadata": {},
   "outputs": [],
   "source": [
    "import numpy as np\n",
    "importances = model.feature_importances_"
   ]
  },
  {
   "cell_type": "code",
   "execution_count": 39,
   "metadata": {},
   "outputs": [
    {
     "data": {
      "text/plain": [
       "_RMSenergy_Mean      0.030386\n",
       "_Lowenergy_Mean      0.012521\n",
       "_Fluctuation_Mean    0.201657\n",
       "_Tempo_Mean          0.034037\n",
       "_MFCC_Mean_1         0.165831\n",
       "_MFCC_Mean_2         0.137375\n",
       "_MFCC_Mean_3         0.047531\n",
       "_MFCC_Mean_4         0.027045\n",
       "_MFCC_Mean_5         0.030822\n",
       "_MFCC_Mean_6         0.075710\n",
       "_MFCC_Mean_7         0.050289\n",
       "_MFCC_Mean_8         0.009598\n",
       "_MFCC_Mean_9         0.027338\n",
       "_MFCC_Mean_10        0.046296\n",
       "_MFCC_Mean_11        0.023005\n",
       "_MFCC_Mean_12        0.006946\n",
       "_MFCC_Mean_13        0.005557\n",
       "_Roughness_Mean      0.007694\n",
       "_Roughness_Slope     0.060360\n",
       "dtype: float64"
      ]
     },
     "execution_count": 39,
     "metadata": {},
     "output_type": "execute_result"
    }
   ],
   "source": [
    "feature_names=x.columns\n",
    "import pandas as pd\n",
    "model_importances = pd.Series(importances, index=feature_names)\n",
    "model_importances"
   ]
  },
  {
   "cell_type": "code",
   "execution_count": 40,
   "metadata": {},
   "outputs": [
    {
     "data": {
      "text/plain": [
       "<AxesSubplot:>"
      ]
     },
     "execution_count": 40,
     "metadata": {},
     "output_type": "execute_result"
    },
    {
     "data": {
      "image/png": "[encoded data removed]",
      "text/plain": [
       "<Figure size 432x288 with 1 Axes>"
      ]
     },
     "metadata": {
      "needs_background": "light"
     },
     "output_type": "display_data"
    }
   ],
   "source": [
    "model_importances.plot(kind='bar')"
   ]
  },
  {
   "cell_type": "code",
   "execution_count": 41,
   "metadata": {},
   "outputs": [
    {
     "data": {
      "text/plain": [
       "array([2, 3, 2, 1, 1, 2, 2, 0, 0, 0, 0, 3, 1, 1, 3, 0, 3, 2, 0, 3, 2, 0,\n",
       "       0, 1, 2, 3, 3, 1, 2, 3, 3, 1, 0, 3, 0, 0, 0, 1, 2, 1, 1, 2, 0, 0,\n",
       "       0, 1, 0, 1, 0, 3, 2, 3, 3, 1, 3, 0, 1, 0, 3, 1, 2, 3, 1, 1, 1, 3,\n",
       "       2, 0, 3, 3, 3, 0, 1, 0, 1, 2, 0, 1, 0, 1])"
      ]
     },
     "execution_count": 41,
     "metadata": {},
     "output_type": "execute_result"
    }
   ],
   "source": [
    "y_pred=model.predict(x_test)\n",
    "y_pred"
   ]
  },
  {
   "cell_type": "markdown",
   "metadata": {},
   "source": [
    "relax=2 happy=1 sad=3 angry=0"
   ]
  },
  {
   "cell_type": "code",
   "execution_count": 42,
   "metadata": {},
   "outputs": [
    {
     "name": "stdout",
     "output_type": "stream",
     "text": [
      "Mean sum of squares (MSE): 0.72\n"
     ]
    }
   ],
   "source": [
    "#Finding the accuracy - How Accurate the model is?\n",
    "import numpy as np\n",
    "print(\"Mean sum of squares (MSE): %.2f\" % np.mean(((y_pred - y_test)** 2)**0.5))"
   ]
  },
  {
   "cell_type": "code",
   "execution_count": 44,
   "metadata": {},
   "outputs": [
    {
     "name": "stdout",
     "output_type": "stream",
     "text": [
      "Enter _RMSenergy_Mean:0.108\n",
      "Enter _Lowenergy_Mean:0.53\n",
      "Enter _Fluctuation_Mean:7.854\n",
      "Enter _Tempo_Mean:135.699\n",
      "Enter _MFCC_Mean_1:2.444\n",
      "Enter _MFCC_Mean_2:-0.002\n",
      "Enter _MFCC_Mean_3:0.259\n",
      "Enter _MFCC_Mean_4:0.123\n",
      "Enter _MFCC_Mean_5:0.145\n",
      "Enter _MFCC_Mean_60.054\n",
      "Enter _MFCC_Mean_7:0.018\n",
      "Enter _MFCC_Mean_80.017\n",
      "Enter _MFCC_Mean_9:-0.017\n",
      "Enter _MFCC_Mean_10:-0.026\n",
      "Enter _MFCC_Mean_11:-0.083\n",
      "Enter _MFCC_Mean_12:-0.119\n",
      "Enter _MFCC_Mean_13:-0.022\n",
      "Enter _Roughness_Mean:687.145\n",
      "Enter _Roughness_Slope:0.007\n",
      "[1]\n"
     ]
    }
   ],
   "source": [
    "_RMSenergy_Mean=float(input(\"Enter _RMSenergy_Mean:\"))\n",
    "_Lowenergy_Mean=float(input(\"Enter _Lowenergy_Mean:\"))\n",
    "_Fluctuation_Mean=float(input(\"Enter _Fluctuation_Mean:\"))\n",
    "_Tempo_Mean=float(input(\"Enter _Tempo_Mean:\"))\n",
    "_MFCC_Mean_1=float(input(\"Enter _MFCC_Mean_1:\"))\n",
    "_MFCC_Mean_2=float(input(\"Enter _MFCC_Mean_2:\"))\n",
    "_MFCC_Mean_3=float(input(\"Enter _MFCC_Mean_3:\"))\n",
    "_MFCC_Mean_4=float(input(\"Enter _MFCC_Mean_4:\"))\n",
    "_MFCC_Mean_5=float(input(\"Enter _MFCC_Mean_5:\"))\n",
    "_MFCC_Mean_6=float(input(\"Enter _MFCC_Mean_6\"))\n",
    "_MFCC_Mean_7=float(input(\"Enter _MFCC_Mean_7:\"))\n",
    "_MFCC_Mean_8=float(input(\"Enter _MFCC_Mean_8\"))\n",
    "_MFCC_Mean_9=float(input(\"Enter _MFCC_Mean_9:\"))\n",
    "_MFCC_Mean_10=float(input(\"Enter _MFCC_Mean_10:\"))\n",
    "_MFCC_Mean_11=float(input(\"Enter _MFCC_Mean_11:\"))\n",
    "_MFCC_Mean_12=float(input(\"Enter _MFCC_Mean_12:\"))\n",
    "_MFCC_Mean_13=float(input(\"Enter _MFCC_Mean_13:\"))\n",
    "_Roughness_Mean=float(input(\"Enter _Roughness_Mean:\"))\n",
    "_Roughness_Slope=float(input(\"Enter _Roughness_Slope:\"))\n",
    "sal=model.predict([[_RMSenergy_Mean,_Lowenergy_Mean,_Fluctuation_Mean,_Tempo_Mean,_MFCC_Mean_1,_MFCC_Mean_2,_MFCC_Mean_3,_MFCC_Mean_4,_MFCC_Mean_5,_MFCC_Mean_6,_MFCC_Mean_7,_MFCC_Mean_8,_MFCC_Mean_9,_MFCC_Mean_10,_MFCC_Mean_11,_MFCC_Mean_12,_MFCC_Mean_13,_Roughness_Mean,_Roughness_Slope]])\n",
    "print(sal)"
   ]
  },
  {
   "cell_type": "markdown",
   "metadata": {},
   "source": [
    "relax=2 happy=1 sad=3 angry=0"
   ]
  },
  {
   "cell_type": "code",
   "execution_count": null,
   "metadata": {},
   "outputs": [],
   "source": []
  }
 ],
 "metadata": {
  "kernelspec": {
   "display_name": "Python 3",
   "language": "python",
   "name": "python3"
  },
  "language_info": {
   "codemirror_mode": {
    "name": "ipython",
    "version": 3
   },
   "file_extension": ".py",
   "mimetype": "text/x-python",
   "name": "python",
   "nbconvert_exporter": "python",
   "pygments_lexer": "ipython3",
   "version": "3.8.5"
  }
 },
 "nbformat": 4,
 "nbformat_minor": 4
}
